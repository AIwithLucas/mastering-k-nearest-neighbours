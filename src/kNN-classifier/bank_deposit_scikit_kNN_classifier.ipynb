{
 "cells": [
  {
   "cell_type": "code",
   "execution_count": 9,
   "metadata": {},
   "outputs": [],
   "source": [
    "from sklearn.neighbors import KNeighborsClassifier\n",
    "from sklearn.model_selection import StratifiedKFold, cross_val_score\n",
    "from sklearn.decomposition import PCA\n",
    "from sklearn.preprocessing import StandardScaler\n",
    "from sklearn.metrics import classification_report\n",
    "import numpy as np\n",
    "import pandas as pd\n",
    "from sklearn.preprocessing import LabelEncoder"
   ]
  },
  {
   "cell_type": "markdown",
   "metadata": {},
   "source": [
    "## 1 Read dataset & get general sensing\n"
   ]
  },
  {
   "cell_type": "code",
   "execution_count": 2,
   "metadata": {},
   "outputs": [
    {
     "name": "stdout",
     "output_type": "stream",
     "text": [
      "Dataset shape: (45211, 17)\n"
     ]
    },
    {
     "data": {
      "text/html": [
       "<div>\n",
       "<style scoped>\n",
       "    .dataframe tbody tr th:only-of-type {\n",
       "        vertical-align: middle;\n",
       "    }\n",
       "\n",
       "    .dataframe tbody tr th {\n",
       "        vertical-align: top;\n",
       "    }\n",
       "\n",
       "    .dataframe thead th {\n",
       "        text-align: right;\n",
       "    }\n",
       "</style>\n",
       "<table border=\"1\" class=\"dataframe\">\n",
       "  <thead>\n",
       "    <tr style=\"text-align: right;\">\n",
       "      <th></th>\n",
       "      <th>age</th>\n",
       "      <th>job</th>\n",
       "      <th>marital</th>\n",
       "      <th>education</th>\n",
       "      <th>default</th>\n",
       "      <th>balance</th>\n",
       "      <th>housing</th>\n",
       "      <th>loan</th>\n",
       "      <th>contact</th>\n",
       "      <th>day</th>\n",
       "      <th>month</th>\n",
       "      <th>duration</th>\n",
       "      <th>campaign</th>\n",
       "      <th>pdays</th>\n",
       "      <th>previous</th>\n",
       "      <th>poutcome</th>\n",
       "      <th>y</th>\n",
       "    </tr>\n",
       "  </thead>\n",
       "  <tbody>\n",
       "    <tr>\n",
       "      <th>0</th>\n",
       "      <td>58</td>\n",
       "      <td>management</td>\n",
       "      <td>married</td>\n",
       "      <td>tertiary</td>\n",
       "      <td>no</td>\n",
       "      <td>2143</td>\n",
       "      <td>yes</td>\n",
       "      <td>no</td>\n",
       "      <td>unknown</td>\n",
       "      <td>5</td>\n",
       "      <td>may</td>\n",
       "      <td>261</td>\n",
       "      <td>1</td>\n",
       "      <td>-1</td>\n",
       "      <td>0</td>\n",
       "      <td>unknown</td>\n",
       "      <td>no</td>\n",
       "    </tr>\n",
       "    <tr>\n",
       "      <th>1</th>\n",
       "      <td>44</td>\n",
       "      <td>technician</td>\n",
       "      <td>single</td>\n",
       "      <td>secondary</td>\n",
       "      <td>no</td>\n",
       "      <td>29</td>\n",
       "      <td>yes</td>\n",
       "      <td>no</td>\n",
       "      <td>unknown</td>\n",
       "      <td>5</td>\n",
       "      <td>may</td>\n",
       "      <td>151</td>\n",
       "      <td>1</td>\n",
       "      <td>-1</td>\n",
       "      <td>0</td>\n",
       "      <td>unknown</td>\n",
       "      <td>no</td>\n",
       "    </tr>\n",
       "    <tr>\n",
       "      <th>2</th>\n",
       "      <td>33</td>\n",
       "      <td>entrepreneur</td>\n",
       "      <td>married</td>\n",
       "      <td>secondary</td>\n",
       "      <td>no</td>\n",
       "      <td>2</td>\n",
       "      <td>yes</td>\n",
       "      <td>yes</td>\n",
       "      <td>unknown</td>\n",
       "      <td>5</td>\n",
       "      <td>may</td>\n",
       "      <td>76</td>\n",
       "      <td>1</td>\n",
       "      <td>-1</td>\n",
       "      <td>0</td>\n",
       "      <td>unknown</td>\n",
       "      <td>no</td>\n",
       "    </tr>\n",
       "    <tr>\n",
       "      <th>3</th>\n",
       "      <td>47</td>\n",
       "      <td>blue-collar</td>\n",
       "      <td>married</td>\n",
       "      <td>unknown</td>\n",
       "      <td>no</td>\n",
       "      <td>1506</td>\n",
       "      <td>yes</td>\n",
       "      <td>no</td>\n",
       "      <td>unknown</td>\n",
       "      <td>5</td>\n",
       "      <td>may</td>\n",
       "      <td>92</td>\n",
       "      <td>1</td>\n",
       "      <td>-1</td>\n",
       "      <td>0</td>\n",
       "      <td>unknown</td>\n",
       "      <td>no</td>\n",
       "    </tr>\n",
       "    <tr>\n",
       "      <th>4</th>\n",
       "      <td>33</td>\n",
       "      <td>unknown</td>\n",
       "      <td>single</td>\n",
       "      <td>unknown</td>\n",
       "      <td>no</td>\n",
       "      <td>1</td>\n",
       "      <td>no</td>\n",
       "      <td>no</td>\n",
       "      <td>unknown</td>\n",
       "      <td>5</td>\n",
       "      <td>may</td>\n",
       "      <td>198</td>\n",
       "      <td>1</td>\n",
       "      <td>-1</td>\n",
       "      <td>0</td>\n",
       "      <td>unknown</td>\n",
       "      <td>no</td>\n",
       "    </tr>\n",
       "  </tbody>\n",
       "</table>\n",
       "</div>"
      ],
      "text/plain": [
       "   age           job  marital  education default  balance housing loan  \\\n",
       "0   58    management  married   tertiary      no     2143     yes   no   \n",
       "1   44    technician   single  secondary      no       29     yes   no   \n",
       "2   33  entrepreneur  married  secondary      no        2     yes  yes   \n",
       "3   47   blue-collar  married    unknown      no     1506     yes   no   \n",
       "4   33       unknown   single    unknown      no        1      no   no   \n",
       "\n",
       "   contact  day month  duration  campaign  pdays  previous poutcome   y  \n",
       "0  unknown    5   may       261         1     -1         0  unknown  no  \n",
       "1  unknown    5   may       151         1     -1         0  unknown  no  \n",
       "2  unknown    5   may        76         1     -1         0  unknown  no  \n",
       "3  unknown    5   may        92         1     -1         0  unknown  no  \n",
       "4  unknown    5   may       198         1     -1         0  unknown  no  "
      ]
     },
     "execution_count": 2,
     "metadata": {},
     "output_type": "execute_result"
    }
   ],
   "source": [
    "df = pd.read_csv('../../data/bank-full.csv', sep=';')\n",
    "print(f\"Dataset shape: {df.shape}\")\n",
    "\n",
    "df.head(5)"
   ]
  },
  {
   "cell_type": "markdown",
   "metadata": {},
   "source": [
    "### 1.2 check for missing values\n"
   ]
  },
  {
   "cell_type": "code",
   "execution_count": 3,
   "metadata": {},
   "outputs": [
    {
     "data": {
      "text/plain": [
       "age          0\n",
       "job          0\n",
       "marital      0\n",
       "education    0\n",
       "default      0\n",
       "balance      0\n",
       "housing      0\n",
       "loan         0\n",
       "contact      0\n",
       "day          0\n",
       "month        0\n",
       "duration     0\n",
       "campaign     0\n",
       "pdays        0\n",
       "previous     0\n",
       "poutcome     0\n",
       "y            0\n",
       "dtype: int64"
      ]
     },
     "execution_count": 3,
     "metadata": {},
     "output_type": "execute_result"
    }
   ],
   "source": [
    "df.isna().sum()"
   ]
  },
  {
   "cell_type": "markdown",
   "metadata": {},
   "source": [
    "#### Ordinal categorical:\n",
    "\n",
    "- education\n",
    "\n",
    "#### Nominal categoricals:\n",
    "\n",
    "- job\n",
    "- marital\n",
    "- default\n",
    "- housing\n",
    "- loan\n",
    "- contact\n",
    "- poutcome\n"
   ]
  },
  {
   "cell_type": "markdown",
   "metadata": {},
   "source": []
  },
  {
   "cell_type": "markdown",
   "metadata": {},
   "source": [
    "## 2 Understanding data\n"
   ]
  },
  {
   "cell_type": "code",
   "execution_count": 4,
   "metadata": {},
   "outputs": [
    {
     "name": "stdout",
     "output_type": "stream",
     "text": [
      "Num of Numerical Features: 7\n",
      "Num of Categorical Features: 10\n"
     ]
    }
   ],
   "source": [
    "numerical_features = df.select_dtypes(include=['int64', 'float64']).columns\n",
    "categorical_features = df.select_dtypes(include='object').columns\n",
    "\n",
    "print(f\"Num of Numerical Features: {len(numerical_features)}\")\n",
    "print(f\"Num of Categorical Features: {len(categorical_features)}\")"
   ]
  },
  {
   "cell_type": "markdown",
   "metadata": {},
   "source": [
    "### 3 Encode categorical features\n"
   ]
  },
  {
   "cell_type": "code",
   "execution_count": 7,
   "metadata": {},
   "outputs": [
    {
     "data": {
      "text/plain": [
       "Index(['job', 'marital', 'default', 'housing', 'loan', 'contact', 'month',\n",
       "       'poutcome'],\n",
       "      dtype='object')"
      ]
     },
     "execution_count": 7,
     "metadata": {},
     "output_type": "execute_result"
    }
   ],
   "source": [
    "categorical_features.drop(['education', 'y'])"
   ]
  },
  {
   "cell_type": "code",
   "execution_count": 10,
   "metadata": {},
   "outputs": [],
   "source": [
    "le = LabelEncoder()\n",
    "df['education'] = le.fit_transform(df['education'])\n",
    "\n",
    "df = pd.get_dummies(df, columns=categorical_features.drop(['education', 'y']), drop_first=True)\n"
   ]
  },
  {
   "cell_type": "code",
   "execution_count": 11,
   "metadata": {},
   "outputs": [
    {
     "data": {
      "text/plain": [
       "(45211, 41)"
      ]
     },
     "execution_count": 11,
     "metadata": {},
     "output_type": "execute_result"
    }
   ],
   "source": [
    "df.shape"
   ]
  },
  {
   "cell_type": "code",
   "execution_count": 12,
   "metadata": {},
   "outputs": [],
   "source": [
    "X_df = df.drop('y', axis=1)\n",
    "y_df = df['y']\n",
    "\n",
    "X_df = X_df.astype(int)"
   ]
  },
  {
   "cell_type": "markdown",
   "metadata": {},
   "source": [
    "### 4 Feature importance analysis\n"
   ]
  },
  {
   "cell_type": "markdown",
   "metadata": {},
   "source": [
    "#### Numerical Feature Importance Analysis (Pearson Correlation Coefficient)\n"
   ]
  },
  {
   "cell_type": "code",
   "execution_count": 13,
   "metadata": {},
   "outputs": [],
   "source": [
    "y_df_binary = y_df.map({'no': 0, 'yes': 1})"
   ]
  },
  {
   "cell_type": "code",
   "execution_count": 14,
   "metadata": {},
   "outputs": [
    {
     "name": "stdout",
     "output_type": "stream",
     "text": [
      "age: 0.03\n",
      "balance: 0.05\n",
      "day: -0.03\n",
      "duration: 0.39\n",
      "campaign: -0.07\n",
      "pdays: 0.10\n",
      "previous: 0.09\n"
     ]
    }
   ],
   "source": [
    "def calc_pearson_correl(x, y):\n",
    "    x_mean = np.mean(x)\n",
    "    y_mean = np.mean(y)\n",
    "    numerator = np.sum((x - x_mean) * (y - y_mean))\n",
    "    denominator = np.sqrt(np.sum((x - x_mean) ** 2) * np.sum((y - y_mean) ** 2))\n",
    "    return numerator / denominator\n",
    "\n",
    "for feature in numerical_features:\n",
    "    x = np.array(X_df[feature])\n",
    "    correl = calc_pearson_correl(x, y_df_binary.values)\n",
    "    print(f\"{feature}: {correl:.2f}\")\n"
   ]
  },
  {
   "cell_type": "markdown",
   "metadata": {},
   "source": [
    "- age: 0.03 → Negligible correlation.\n",
    "- balance: 0.05 → Negligible correlation.\n",
    "- day: -0.03 → Negligible correlation.\n",
    "- duration: 0.39 → Moderate correlation (potentially important feature).\n",
    "- campaign: -0.07 → Negligible correlation.\n",
    "- pdays: 0.10 → Weak correlation (may provide some insight).\n",
    "- previous: 0.09 → Weak correlation (may provide some insight).\n"
   ]
  },
  {
   "cell_type": "markdown",
   "metadata": {},
   "source": [
    "#### Categorical Feature Importance Analysis (Chi-Square)\n"
   ]
  },
  {
   "cell_type": "code",
   "execution_count": 15,
   "metadata": {},
   "outputs": [],
   "source": [
    "new_categorical_features = df.drop(numerical_features, axis=1)"
   ]
  },
  {
   "cell_type": "code",
   "execution_count": 16,
   "metadata": {},
   "outputs": [],
   "source": [
    "chi_square_score_map = {}\n",
    "def calc_chi_square(observed, expected):\n",
    "    return np.sum((observed - expected) ** 2 / expected)\n",
    "\n",
    "def chi_square_analysis(categorical_data, target):\n",
    "    unique_categories = set(categorical_data)\n",
    "    observed_counts = []\n",
    "    expected_counts = []\n",
    "    \n",
    "    for category in unique_categories:\n",
    "        category_indices = [i for i, value in enumerate(categorical_data) if value == category] # return the index where the category is found within a series\n",
    "        observed_count = np.sum(target[category_indices]) # matches where the category feature value coincides with target column, then sum\n",
    "        total_category_count = len(category_indices) # total number of occurrence for a specific category\n",
    "        observed_counts.append(observed_count)\n",
    "        expected_counts.append(total_category_count * np.mean(target)) # expected count = total count * proportion of count\n",
    "        # in binary 0 and 1, np.mean(target) gives the propotion of 1\n",
    "    \n",
    "    observed_counts = np.array(observed_counts)\n",
    "    expected_counts = np.array(expected_counts)\n",
    "    return calc_chi_square(observed_counts, expected_counts)\n",
    "\n",
    "for feature in new_categorical_features:\n",
    "    x = np.array(df[feature])\n",
    "    chi_square_value = chi_square_analysis(x, y_df_binary.values)\n",
    "    chi_square_score_map[feature] = round(chi_square_value, 3)"
   ]
  },
  {
   "cell_type": "code",
   "execution_count": 17,
   "metadata": {},
   "outputs": [
    {
     "name": "stdout",
     "output_type": "stream",
     "text": [
      "mean chi value :  1493.2983529411767\n",
      "median chi value :  101.9445\n",
      "education\n",
      "job_blue-collar\n",
      "job_retired\n",
      "job_student\n",
      "marital_married\n",
      "marital_single\n",
      "housing_yes\n",
      "loan_yes\n",
      "contact_unknown\n",
      "month_dec\n",
      "month_mar\n",
      "month_may\n",
      "month_oct\n",
      "month_sep\n",
      "poutcome_success\n",
      "poutcome_unknown\n"
     ]
    }
   ],
   "source": [
    "chi_values = list(chi_square_score_map.values())\n",
    "mean_chi_value = np.mean(chi_values)\n",
    "median_chi_value = np.median(chi_values)\n",
    "\n",
    "print(\"mean chi value : \", mean_chi_value)\n",
    "print(\"median chi value : \", median_chi_value)\n",
    "\n",
    "for feature, chi_score in chi_square_score_map.items():\n",
    "    if chi_score > median_chi_value and feature != 'y':\n",
    "        print(feature)"
   ]
  },
  {
   "cell_type": "markdown",
   "metadata": {},
   "source": [
    "### 5 Building k-NN classifier model\n"
   ]
  },
  {
   "cell_type": "markdown",
   "metadata": {},
   "source": [
    "## Prepping data & Model training\n"
   ]
  },
  {
   "cell_type": "code",
   "execution_count": 18,
   "metadata": {},
   "outputs": [
    {
     "name": "stdout",
     "output_type": "stream",
     "text": [
      "(45211, 40)\n",
      "(45211, 17)\n",
      "(45211,)\n"
     ]
    }
   ],
   "source": [
    "X_all = X_df.values\n",
    "y_all = y_df_binary.values\n",
    "\n",
    "important_features = [\n",
    "    \"duration\", \n",
    "    \"education\",\n",
    "    \"job_blue-collar\",\n",
    "    \"job_retired\",\n",
    "    \"job_student\",\n",
    "    \"marital_married\",\n",
    "    \"marital_single\",\n",
    "    \"housing_yes\",\n",
    "    \"loan_yes\",\n",
    "    \"contact_unknown\",\n",
    "    \"month_dec\",\n",
    "    \"month_mar\",\n",
    "    \"month_may\",\n",
    "    \"month_oct\",\n",
    "    \"month_sep\",\n",
    "    \"poutcome_success\",\n",
    "    \"poutcome_unknown\"\n",
    "]\n",
    "\n",
    "X_feature_trimmed = X_df[important_features].values\n",
    "\n",
    "print(X_all.shape)\n",
    "print(X_feature_trimmed.shape)\n",
    "print(y_all.shape)"
   ]
  },
  {
   "cell_type": "code",
   "execution_count": 19,
   "metadata": {},
   "outputs": [
    {
     "data": {
      "text/plain": [
       "y\n",
       "0    0.883015\n",
       "1    0.116985\n",
       "Name: count, dtype: float64"
      ]
     },
     "execution_count": 19,
     "metadata": {},
     "output_type": "execute_result"
    }
   ],
   "source": [
    "y_df_binary.value_counts() / len(y_df_binary)\n",
    "# 88% to 12%, highly imbalanced, use stratified k fold"
   ]
  },
  {
   "cell_type": "code",
   "execution_count": 21,
   "metadata": {},
   "outputs": [],
   "source": [
    "# Scale the features for PCA and kNN\n",
    "scaler = StandardScaler()\n",
    "X_scaled = scaler.fit_transform(X_feature_trimmed)"
   ]
  },
  {
   "cell_type": "code",
   "execution_count": 22,
   "metadata": {},
   "outputs": [],
   "source": [
    "# Define the kNN model\n",
    "knn = KNeighborsClassifier(n_neighbors=5, algorithm='auto')"
   ]
  },
  {
   "cell_type": "code",
   "execution_count": null,
   "metadata": {},
   "outputs": [],
   "source": [
    "# Stratified k-fold cross-validation to address imbalance\n",
    "skf = StratifiedKFold(n_splits=5, shuffle=True, random_state=42)\n",
    "scores = cross_val_score(knn, X_scaled, y_all, cv=skf, scoring='accuracy')"
   ]
  },
  {
   "cell_type": "code",
   "execution_count": 26,
   "metadata": {},
   "outputs": [],
   "source": [
    "# Train and evaluate the model\n",
    "knn.fit(X_scaled, y_all)\n",
    "y_pred = knn.predict(X_scaled)\n",
    "report = classification_report(y_all, y_pred)"
   ]
  },
  {
   "cell_type": "code",
   "execution_count": 27,
   "metadata": {},
   "outputs": [
    {
     "name": "stdout",
     "output_type": "stream",
     "text": [
      "Cross-validation accuracy scores: [0.89361937 0.89128511 0.89526653 0.89316523 0.88885202]\n",
      "Mean accuracy: 0.8924\n",
      "\n",
      "Classification Report:\n",
      "               precision    recall  f1-score   support\n",
      "\n",
      "           0       0.94      0.97      0.96     39922\n",
      "           1       0.73      0.52      0.60      5289\n",
      "\n",
      "    accuracy                           0.92     45211\n",
      "   macro avg       0.83      0.75      0.78     45211\n",
      "weighted avg       0.91      0.92      0.91     45211\n",
      "\n"
     ]
    }
   ],
   "source": [
    "print(f\"Cross-validation accuracy scores: {scores}\")\n",
    "print(f\"Mean accuracy: {np.mean(scores):.4f}\")\n",
    "print(\"\\nClassification Report:\\n\", report)"
   ]
  },
  {
   "cell_type": "code",
   "execution_count": null,
   "metadata": {},
   "outputs": [],
   "source": []
  },
  {
   "cell_type": "code",
   "execution_count": null,
   "metadata": {},
   "outputs": [],
   "source": []
  },
  {
   "cell_type": "markdown",
   "metadata": {},
   "source": [
    "### 6 Perform Prediction to evaluate model\n"
   ]
  },
  {
   "cell_type": "code",
   "execution_count": 30,
   "metadata": {},
   "outputs": [],
   "source": [
    "df['y_pred'] = y_pred"
   ]
  },
  {
   "cell_type": "code",
   "execution_count": 32,
   "metadata": {},
   "outputs": [],
   "source": [
    "df['y_binary'] = df['y'].map({'no': 0, 'yes': 1})"
   ]
  },
  {
   "cell_type": "code",
   "execution_count": 33,
   "metadata": {},
   "outputs": [
    {
     "data": {
      "text/html": [
       "<div>\n",
       "<style scoped>\n",
       "    .dataframe tbody tr th:only-of-type {\n",
       "        vertical-align: middle;\n",
       "    }\n",
       "\n",
       "    .dataframe tbody tr th {\n",
       "        vertical-align: top;\n",
       "    }\n",
       "\n",
       "    .dataframe thead th {\n",
       "        text-align: right;\n",
       "    }\n",
       "</style>\n",
       "<table border=\"1\" class=\"dataframe\">\n",
       "  <thead>\n",
       "    <tr style=\"text-align: right;\">\n",
       "      <th></th>\n",
       "      <th>y_binary</th>\n",
       "      <th>y_pred</th>\n",
       "    </tr>\n",
       "  </thead>\n",
       "  <tbody>\n",
       "    <tr>\n",
       "      <th>0</th>\n",
       "      <td>0</td>\n",
       "      <td>0</td>\n",
       "    </tr>\n",
       "    <tr>\n",
       "      <th>1</th>\n",
       "      <td>0</td>\n",
       "      <td>0</td>\n",
       "    </tr>\n",
       "    <tr>\n",
       "      <th>2</th>\n",
       "      <td>0</td>\n",
       "      <td>0</td>\n",
       "    </tr>\n",
       "    <tr>\n",
       "      <th>3</th>\n",
       "      <td>0</td>\n",
       "      <td>0</td>\n",
       "    </tr>\n",
       "    <tr>\n",
       "      <th>4</th>\n",
       "      <td>0</td>\n",
       "      <td>0</td>\n",
       "    </tr>\n",
       "    <tr>\n",
       "      <th>...</th>\n",
       "      <td>...</td>\n",
       "      <td>...</td>\n",
       "    </tr>\n",
       "    <tr>\n",
       "      <th>45206</th>\n",
       "      <td>1</td>\n",
       "      <td>0</td>\n",
       "    </tr>\n",
       "    <tr>\n",
       "      <th>45207</th>\n",
       "      <td>1</td>\n",
       "      <td>1</td>\n",
       "    </tr>\n",
       "    <tr>\n",
       "      <th>45208</th>\n",
       "      <td>1</td>\n",
       "      <td>1</td>\n",
       "    </tr>\n",
       "    <tr>\n",
       "      <th>45209</th>\n",
       "      <td>0</td>\n",
       "      <td>0</td>\n",
       "    </tr>\n",
       "    <tr>\n",
       "      <th>45210</th>\n",
       "      <td>0</td>\n",
       "      <td>0</td>\n",
       "    </tr>\n",
       "  </tbody>\n",
       "</table>\n",
       "<p>45211 rows × 2 columns</p>\n",
       "</div>"
      ],
      "text/plain": [
       "       y_binary  y_pred\n",
       "0             0       0\n",
       "1             0       0\n",
       "2             0       0\n",
       "3             0       0\n",
       "4             0       0\n",
       "...         ...     ...\n",
       "45206         1       0\n",
       "45207         1       1\n",
       "45208         1       1\n",
       "45209         0       0\n",
       "45210         0       0\n",
       "\n",
       "[45211 rows x 2 columns]"
      ]
     },
     "execution_count": 33,
     "metadata": {},
     "output_type": "execute_result"
    }
   ],
   "source": [
    "df[['y_binary', 'y_pred']]"
   ]
  },
  {
   "cell_type": "code",
   "execution_count": 35,
   "metadata": {},
   "outputs": [
    {
     "data": {
      "text/html": [
       "<div>\n",
       "<style scoped>\n",
       "    .dataframe tbody tr th:only-of-type {\n",
       "        vertical-align: middle;\n",
       "    }\n",
       "\n",
       "    .dataframe tbody tr th {\n",
       "        vertical-align: top;\n",
       "    }\n",
       "\n",
       "    .dataframe thead th {\n",
       "        text-align: right;\n",
       "    }\n",
       "</style>\n",
       "<table border=\"1\" class=\"dataframe\">\n",
       "  <thead>\n",
       "    <tr style=\"text-align: right;\">\n",
       "      <th></th>\n",
       "      <th>y_binary</th>\n",
       "      <th>y_pred</th>\n",
       "    </tr>\n",
       "  </thead>\n",
       "  <tbody>\n",
       "    <tr>\n",
       "      <th>61</th>\n",
       "      <td>0</td>\n",
       "      <td>1</td>\n",
       "    </tr>\n",
       "    <tr>\n",
       "      <th>83</th>\n",
       "      <td>1</td>\n",
       "      <td>0</td>\n",
       "    </tr>\n",
       "    <tr>\n",
       "      <th>129</th>\n",
       "      <td>1</td>\n",
       "      <td>0</td>\n",
       "    </tr>\n",
       "    <tr>\n",
       "      <th>168</th>\n",
       "      <td>1</td>\n",
       "      <td>0</td>\n",
       "    </tr>\n",
       "    <tr>\n",
       "      <th>224</th>\n",
       "      <td>0</td>\n",
       "      <td>1</td>\n",
       "    </tr>\n",
       "    <tr>\n",
       "      <th>...</th>\n",
       "      <td>...</td>\n",
       "      <td>...</td>\n",
       "    </tr>\n",
       "    <tr>\n",
       "      <th>45199</th>\n",
       "      <td>0</td>\n",
       "      <td>1</td>\n",
       "    </tr>\n",
       "    <tr>\n",
       "      <th>45202</th>\n",
       "      <td>1</td>\n",
       "      <td>0</td>\n",
       "    </tr>\n",
       "    <tr>\n",
       "      <th>45204</th>\n",
       "      <td>1</td>\n",
       "      <td>0</td>\n",
       "    </tr>\n",
       "    <tr>\n",
       "      <th>45205</th>\n",
       "      <td>1</td>\n",
       "      <td>0</td>\n",
       "    </tr>\n",
       "    <tr>\n",
       "      <th>45206</th>\n",
       "      <td>1</td>\n",
       "      <td>0</td>\n",
       "    </tr>\n",
       "  </tbody>\n",
       "</table>\n",
       "<p>3577 rows × 2 columns</p>\n",
       "</div>"
      ],
      "text/plain": [
       "       y_binary  y_pred\n",
       "61            0       1\n",
       "83            1       0\n",
       "129           1       0\n",
       "168           1       0\n",
       "224           0       1\n",
       "...         ...     ...\n",
       "45199         0       1\n",
       "45202         1       0\n",
       "45204         1       0\n",
       "45205         1       0\n",
       "45206         1       0\n",
       "\n",
       "[3577 rows x 2 columns]"
      ]
     },
     "execution_count": 35,
     "metadata": {},
     "output_type": "execute_result"
    }
   ],
   "source": [
    "df[df['y_binary'] != df['y_pred']][['y_binary', 'y_pred']]"
   ]
  },
  {
   "cell_type": "markdown",
   "metadata": {},
   "source": [
    "### Finding optimal k\n"
   ]
  },
  {
   "cell_type": "code",
   "execution_count": null,
   "metadata": {},
   "outputs": [
    {
     "name": "stdout",
     "output_type": "stream",
     "text": [
      "Processed split value: 2 | Accuracy: 0.8985\n",
      "Processed split value: 3 | Accuracy: 0.899\n",
      "Processed split value: 4 | Accuracy: 0.8996\n",
      "Processed split value: 5 | Accuracy: 0.8999\n",
      "Processed split value: 6 | Accuracy: 0.8996\n",
      "Processed split value: 7 | Accuracy: 0.8986\n",
      "Processed split value: 8 | Accuracy: 0.8991\n",
      "Processed split value: 9 | Accuracy: 0.8991\n"
     ]
    }
   ],
   "source": [
    "accuracy_map = {}\n",
    "\n",
    "for k in range(0, 505, 5):\n",
    "    if k == 0:\n",
    "        k += 1\n",
    "    knn = KNeighborsClassifier(n_neighbors=k, algorithm='auto')\n",
    "    skf = StratifiedKFold(n_splits=5, shuffle=True)\n",
    "    scores = cross_val_score(knn, X_scaled, y_all, cv=skf, scoring='accuracy')\n",
    "    accuracy = round(np.mean(scores), 4)\n",
    "    accuracy_map[k] = accuracy\n",
    "    print(f\"Processed k value: {k} | Accuracy: {accuracy}\")\n"
   ]
  },
  {
   "cell_type": "code",
   "execution_count": 41,
   "metadata": {},
   "outputs": [
    {
     "data": {
      "text/plain": [
       "{1: 0.8701,\n",
       " 5: 0.8923,\n",
       " 10: 0.8978,\n",
       " 15: 0.8992,\n",
       " 20: 0.8986,\n",
       " 25: 0.8987,\n",
       " 30: 0.8991,\n",
       " 35: 0.8994,\n",
       " 40: 0.8993,\n",
       " 45: 0.8981,\n",
       " 50: 0.8991,\n",
       " 55: 0.8992,\n",
       " 60: 0.8993,\n",
       " 65: 0.8994,\n",
       " 70: 0.8986,\n",
       " 75: 0.8987,\n",
       " 80: 0.8981,\n",
       " 85: 0.8977,\n",
       " 90: 0.898,\n",
       " 95: 0.8978,\n",
       " 100: 0.8975,\n",
       " 105: 0.8974,\n",
       " 110: 0.8973,\n",
       " 115: 0.8974,\n",
       " 120: 0.8967,\n",
       " 125: 0.897,\n",
       " 130: 0.897,\n",
       " 135: 0.8969,\n",
       " 140: 0.8968,\n",
       " 145: 0.8965,\n",
       " 150: 0.8964,\n",
       " 155: 0.8964,\n",
       " 160: 0.8965,\n",
       " 165: 0.8968,\n",
       " 170: 0.8962,\n",
       " 175: 0.8954,\n",
       " 180: 0.8956,\n",
       " 185: 0.8958,\n",
       " 190: 0.8956,\n",
       " 195: 0.8959,\n",
       " 200: 0.8956,\n",
       " 205: 0.8953,\n",
       " 210: 0.8948,\n",
       " 215: 0.8955,\n",
       " 220: 0.8944,\n",
       " 225: 0.8954,\n",
       " 230: 0.8957,\n",
       " 235: 0.8946,\n",
       " 240: 0.895,\n",
       " 245: 0.8947,\n",
       " 250: 0.8947,\n",
       " 255: 0.8948,\n",
       " 260: 0.8943,\n",
       " 265: 0.8946,\n",
       " 270: 0.8946,\n",
       " 275: 0.8941,\n",
       " 280: 0.8937,\n",
       " 285: 0.8939,\n",
       " 290: 0.894,\n",
       " 295: 0.8936,\n",
       " 300: 0.8934,\n",
       " 305: 0.8937,\n",
       " 310: 0.893,\n",
       " 315: 0.8935,\n",
       " 320: 0.8924,\n",
       " 325: 0.892,\n",
       " 330: 0.8917,\n",
       " 335: 0.8923,\n",
       " 340: 0.8923,\n",
       " 345: 0.8923,\n",
       " 350: 0.8913,\n",
       " 355: 0.8918,\n",
       " 360: 0.892,\n",
       " 365: 0.8918,\n",
       " 370: 0.8916,\n",
       " 375: 0.8915,\n",
       " 380: 0.8917,\n",
       " 385: 0.8918,\n",
       " 390: 0.8919,\n",
       " 395: 0.8914,\n",
       " 400: 0.8914,\n",
       " 405: 0.891,\n",
       " 410: 0.8919,\n",
       " 415: 0.8917,\n",
       " 420: 0.8917,\n",
       " 425: 0.8913,\n",
       " 430: 0.8915,\n",
       " 435: 0.8915,\n",
       " 440: 0.892,\n",
       " 445: 0.8915,\n",
       " 450: 0.8918,\n",
       " 455: 0.8916,\n",
       " 460: 0.8919,\n",
       " 465: 0.8917,\n",
       " 470: 0.8919,\n",
       " 475: 0.892,\n",
       " 480: 0.8917,\n",
       " 485: 0.892,\n",
       " 490: 0.8921,\n",
       " 495: 0.8922,\n",
       " 500: 0.8922}"
      ]
     },
     "execution_count": 41,
     "metadata": {},
     "output_type": "execute_result"
    }
   ],
   "source": [
    "accuracy_map"
   ]
  },
  {
   "cell_type": "code",
   "execution_count": 42,
   "metadata": {},
   "outputs": [
    {
     "data": {
      "image/png": "[encoded data removed]",
      "text/plain": [
       "<Figure size 640x480 with 1 Axes>"
      ]
     },
     "metadata": {},
     "output_type": "display_data"
    }
   ],
   "source": [
    "import matplotlib.pyplot as plt\n",
    "\n",
    "k_values = list(accuracy_map.keys())\n",
    "accuracies = list(accuracy_map.values())\n",
    "\n",
    "# Plotting the line chart\n",
    "plt.plot(k_values, accuracies, marker='o', linestyle='-', color='b')\n",
    "\n",
    "# Adding titles and labels\n",
    "plt.title('Accuracy vs. k value for kNN Classifier')\n",
    "plt.xlabel('k value')\n",
    "plt.ylabel('Accuracy')\n",
    "\n",
    "# Display the plot\n",
    "plt.grid(True)\n",
    "plt.show()"
   ]
  },
  {
   "cell_type": "code",
   "execution_count": 45,
   "metadata": {},
   "outputs": [],
   "source": [
    "best_k, best_acc = max(accuracy_map.items(), key=lambda x: x[1])"
   ]
  },
  {
   "cell_type": "code",
   "execution_count": 47,
   "metadata": {},
   "outputs": [
    {
     "name": "stdout",
     "output_type": "stream",
     "text": [
      "optimal k: 35 | accuracy: 0.8994\n"
     ]
    }
   ],
   "source": [
    "print(f\"optimal k: {best_k} | accuracy: {best_acc}\")"
   ]
  },
  {
   "cell_type": "markdown",
   "metadata": {},
   "source": [
    "### Tuning for best stratified fold\n"
   ]
  },
  {
   "cell_type": "code",
   "execution_count": 50,
   "metadata": {},
   "outputs": [
    {
     "name": "stdout",
     "output_type": "stream",
     "text": [
      "Processed split value: 2 | Accuracy: 0.898\n",
      "Processed split value: 3 | Accuracy: 0.8985\n",
      "Processed split value: 4 | Accuracy: 0.8994\n",
      "Processed split value: 5 | Accuracy: 0.8984\n",
      "Processed split value: 6 | Accuracy: 0.8991\n",
      "Processed split value: 7 | Accuracy: 0.8993\n",
      "Processed split value: 8 | Accuracy: 0.8995\n",
      "Processed split value: 9 | Accuracy: 0.8987\n",
      "Processed split value: 10 | Accuracy: 0.8993\n",
      "Processed split value: 11 | Accuracy: 0.8993\n",
      "Processed split value: 12 | Accuracy: 0.8989\n",
      "Processed split value: 13 | Accuracy: 0.8991\n",
      "Processed split value: 14 | Accuracy: 0.8994\n",
      "Processed split value: 15 | Accuracy: 0.8998\n",
      "Processed split value: 16 | Accuracy: 0.8995\n",
      "Processed split value: 17 | Accuracy: 0.8999\n",
      "Processed split value: 18 | Accuracy: 0.8994\n",
      "Processed split value: 19 | Accuracy: 0.8995\n"
     ]
    }
   ],
   "source": [
    "stratified_accuracy_map = {}\n",
    "\n",
    "for split in range(2, 20):\n",
    "    knn = KNeighborsClassifier(n_neighbors=35, algorithm='auto')\n",
    "    skf = StratifiedKFold(n_splits=split, shuffle=True)\n",
    "    scores = cross_val_score(knn, X_scaled, y_all, cv=skf, scoring='accuracy')\n",
    "    accuracy = round(np.mean(scores), 4)\n",
    "    stratified_accuracy_map[split] = accuracy\n",
    "    print(f\"Processed split value: {split} | Accuracy: {accuracy}\")\n"
   ]
  },
  {
   "cell_type": "code",
   "execution_count": 51,
   "metadata": {},
   "outputs": [
    {
     "data": {
      "image/png": "[encoded data removed]",
      "text/plain": [
       "<Figure size 640x480 with 1 Axes>"
      ]
     },
     "metadata": {},
     "output_type": "display_data"
    }
   ],
   "source": [
    "split_values = list(stratified_accuracy_map.keys())\n",
    "split_accuracies = list(stratified_accuracy_map.values())\n",
    "\n",
    "# Plotting the line chart\n",
    "plt.plot(split_values, split_accuracies, marker='o', linestyle='-', color='r')\n",
    "\n",
    "# Adding titles and labels\n",
    "plt.title('Accuracy vs. splits for kNN Classifier')\n",
    "plt.xlabel('Splits')\n",
    "plt.ylabel('Accuracy')\n",
    "\n",
    "# Display the plot\n",
    "plt.grid(True)\n",
    "plt.show()"
   ]
  },
  {
   "cell_type": "code",
   "execution_count": 52,
   "metadata": {},
   "outputs": [],
   "source": [
    "best_split, best_split_acc = max(stratified_accuracy_map.items(), key=lambda x: x[1])"
   ]
  },
  {
   "cell_type": "code",
   "execution_count": 53,
   "metadata": {},
   "outputs": [
    {
     "name": "stdout",
     "output_type": "stream",
     "text": [
      "optimal split: 17 | accuracy: 0.8999\n"
     ]
    }
   ],
   "source": [
    "print(f\"optimal split: {best_split} | accuracy: {best_split_acc}\")"
   ]
  },
  {
   "cell_type": "code",
   "execution_count": null,
   "metadata": {},
   "outputs": [],
   "source": []
  }
 ],
 "metadata": {
  "kernelspec": {
   "display_name": "base",
   "language": "python",
   "name": "python3"
  },
  "language_info": {
   "codemirror_mode": {
    "name": "ipython",
    "version": 3
   },
   "file_extension": ".py",
   "mimetype": "text/x-python",
   "name": "python",
   "nbconvert_exporter": "python",
   "pygments_lexer": "ipython3",
   "version": "3.12.7"
  }
 },
 "nbformat": 4,
 "nbformat_minor": 2
}
